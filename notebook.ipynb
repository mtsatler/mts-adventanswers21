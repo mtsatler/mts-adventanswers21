{
 "cells": [
  {
   "cell_type": "code",
   "execution_count": null,
   "metadata": {
    "dotnet_interactive": {
     "language": "csharp"
    }
   },
   "outputs": [
    {
     "name": "stdout",
     "output_type": "stream",
     "text": [
      "1529\r\n",
      "1567\r\n"
     ]
    }
   ],
   "source": [
    "//Day 1 Part 1\n",
    "\n",
    "string[] arr = System.IO.File.ReadAllLines(@\"problem1input.txt\");\n",
    "int[] input = new int[arr.Length];\n",
    "\n",
    "for(int i = 0; i < arr.Length; i++)\n",
    "{\n",
    "    input[i] = Int32.Parse(arr[i]);\n",
    "}\n",
    "\n",
    "int numTimesIncreased = 0;\n",
    "\n",
    "for(int i = 0; i < input.Length;i++)\n",
    "{\n",
    "    if(i == 0){\n",
    "        continue;\n",
    "    }\n",
    "    if(input[i] > input[i-1]){\n",
    "        numTimesIncreased++;\n",
    "    }\n",
    "}\n",
    "\n",
    "Console.WriteLine(numTimesIncreased);\n",
    "\n",
    "//Day 1 Part 2\n",
    "\n",
    "numTimesIncreased = 0;\n",
    "\n",
    "\n",
    "for(int i = 0; i < input.Length-1;i++)\n",
    "{\n",
    "    if(i < 2){\n",
    "        continue;\n",
    "    }\n",
    "    if((input[i-2] + input[i-1] + input[i]) < (input[i-1] + input[i] + input[i+1]))\n",
    "    {\n",
    "        numTimesIncreased++;\n",
    "    }\n",
    "}\n",
    "\n",
    "Console.WriteLine(numTimesIncreased);\n"
   ]
  },
  {
   "cell_type": "code",
   "execution_count": null,
   "metadata": {
    "dotnet_interactive": {
     "language": "csharp"
    }
   },
   "outputs": [
    {
     "name": "stdout",
     "output_type": "stream",
     "text": [
      "2272262\r\n"
     ]
    }
   ],
   "source": [
    "//Day 2 Part 1\n",
    "\n",
    "string[] arr = System.IO.File.ReadAllLines(@\"problem2input.txt\");\n",
    "\n",
    "int hPos = 0;\n",
    "int vPos = 0;\n",
    "\n",
    "foreach(string s in arr){\n",
    "    var splitS = s.Split(' ');\n",
    "    switch(splitS[0])\n",
    "    {\n",
    "        case \"forward\": \n",
    "            hPos += Int32.Parse(splitS[1]);\n",
    "            break;\n",
    "        case \"down\":\n",
    "            vPos -= Int32.Parse(splitS[1]);\n",
    "            break;\n",
    "        case \"up\":\n",
    "            vPos += Int32.Parse(splitS[1]);\n",
    "            break; \n",
    "        default:\n",
    "            break;\n",
    "    }\n",
    "}\n",
    "\n",
    "Console.WriteLine(Math.Abs(hPos * vPos));\n"
   ]
  },
  {
   "cell_type": "code",
   "execution_count": null,
   "metadata": {
    "dotnet_interactive": {
     "language": "csharp"
    }
   },
   "outputs": [
    {
     "name": "stdout",
     "output_type": "stream",
     "text": [
      "2134882034\r\n"
     ]
    }
   ],
   "source": [
    "//Day 2 Part 2\n",
    "\n",
    "string[] arr = System.IO.File.ReadAllLines(@\"problem2input.txt\");\n",
    "\n",
    "int hPos = 0;\n",
    "int vPos = 0;\n",
    "int aim = 0;\n",
    "\n",
    "foreach(string s in arr){\n",
    "    var splitS = s.Split(' ');\n",
    "    switch(splitS[0])\n",
    "    {\n",
    "        case \"forward\": \n",
    "            hPos += Int32.Parse(splitS[1]);\n",
    "            vPos += (aim * Int32.Parse(splitS[1]));\n",
    "            break;\n",
    "        case \"down\":\n",
    "            aim += Int32.Parse(splitS[1]);\n",
    "            break;\n",
    "        case \"up\":\n",
    "            aim -= Int32.Parse(splitS[1]);\n",
    "            break; \n",
    "        default:\n",
    "            break;\n",
    "    }\n",
    "}\n",
    "\n",
    "Console.WriteLine(Math.Abs(hPos * vPos));\n",
    "\n"
   ]
  },
  {
   "cell_type": "code",
   "execution_count": null,
   "metadata": {
    "dotnet_interactive": {
     "language": "csharp"
    }
   },
   "outputs": [
    {
     "name": "stdout",
     "output_type": "stream",
     "text": [
      "100011100101\r\n",
      "011100011010\r\n",
      "4139586\r\n"
     ]
    }
   ],
   "source": [
    "//Day 3 Part 1\n",
    "\n",
    "string[] arr = System.IO.File.ReadAllLines(@\"problem3input.txt\");\n",
    "\n",
    "int[] placeSum = new int[] {0, 0, 0, 0, 0, 0, 0, 0, 0, 0, 0, 0};\n",
    "\n",
    "foreach(string s in arr){\n",
    "    for(int i = 0; i < 12; i++)\n",
    "    {\n",
    "        int parsedNum = int.Parse(s[i].ToString());\n",
    "        if(parsedNum == 1){\n",
    "            placeSum[i]++;\n",
    "        }\n",
    "        else{\n",
    "            placeSum[i]--;\n",
    "        }\n",
    "    }\n",
    "}\n",
    "\n",
    "char[] gamma = new char[12];\n",
    "char[] epsilon = new char[12];\n",
    "\n",
    "for(int i = 0; i < 12; i++){\n",
    "    if(placeSum[i] > 0){\n",
    "        gamma[i] = '1';\n",
    "        epsilon[i] = '0';\n",
    "    }\n",
    "    else\n",
    "    {\n",
    "        gamma[i] = '0';\n",
    "        epsilon[i] = '1';\n",
    "    }\n",
    "}\n",
    "\n",
    "Console.WriteLine(new string(gamma));\n",
    "Console.WriteLine(new string(epsilon));\n",
    "\n",
    "int answer = Convert.ToInt32(new string(gamma), 2) * Convert.ToInt32(new string(epsilon), 2);\n",
    "\n",
    "Console.WriteLine(answer);\n",
    "\n",
    "\n"
   ]
  },
  {
   "cell_type": "code",
   "execution_count": null,
   "metadata": {
    "dotnet_interactive": {
     "language": "csharp"
    }
   },
   "outputs": [],
   "source": [
    "//Day 3 Part 2\n",
    "\n",
    "string[] arr = System.IO.File.ReadAllLines(@\"problem3input.txt\");\n",
    "\n",
    "List<string> stringList = new List<string>(arr.ToList());\n",
    "\n",
    "int[] placeSum = new int[] {0, 0, 0, 0, 0, 0, 0, 0, 0, 0, 0, 0};\n",
    "\n",
    "char[] gamma = new char[12];\n",
    "char[] epsilon = new char[12];\n",
    "\n",
    "int digitSelector = 0;\n",
    "\n",
    "string oxygenString;\n",
    "\n",
    "while(stringList.Count >= 1){\n",
    "\n",
    "    for(int i = 0; i < stringList.Count; i++){\n",
    "        int parsedNum = int.Parse(stringList[i][digitSelector].ToString());\n",
    "        if(parsedNum == 1){\n",
    "            placeSum[digitSelector]++;\n",
    "        }\n",
    "        else{\n",
    "            placeSum[digitSelector]--;\n",
    "        }\n",
    "    }\n",
    "\n",
    "    if(placeSum[digitSelector] >= 0){\n",
    "        stringList.RemoveAll(m => m[digitSelector] == '1');\n",
    "    }\n",
    "    else {\n",
    "        stringList.RemoveAll(m => m[digitSelector] == '0');\n",
    "    }\n",
    "\n",
    "    if(stringList.Count == 1){\n",
    "        oxygenString = stringList[0];\n",
    "        break;\n",
    "    }\n",
    "\n",
    "    digitSelector++;\n",
    "\n",
    "}\n",
    "\n",
    "Console.WriteLine(\"oxygen: \" + oxygenString);\n",
    "\n",
    "//Too lazy to rewrite for solving both at same time...\n",
    "//just swap == '1' for == '0' in the RemoveAll calls above to switch between oxygen and co2\n",
    "//oxygen 100111101011\n",
    "//co2 001011000101\n",
    "\n",
    "int answer = Convert.ToInt32(\"100111101011\", 2) * Convert.ToInt32(\"001011000101\", 2);\n",
    "\n",
    "Console.WriteLine(\"Life Support Rating: \" + answer);\n",
    "\n"
   ]
  },
  {
   "cell_type": "code",
   "execution_count": null,
   "metadata": {
    "dotnet_interactive": {
     "language": "csharp"
    }
   },
   "outputs": [],
   "source": [
    "string[] arr = System.IO.File.ReadAllLines(@\"problem3input.txt\");\n",
    "\n",
    "List<string> stringList = new List<string>(arr.ToList());\n",
    "\n",
    "\n",
    "stringList.RemoveAll(s => s[0] == '0');\n",
    "\n",
    "foreach(string s in stringList){\n",
    "    Console.WriteLine(s);\n",
    "}"
   ]
  }
 ],
 "metadata": {
  "kernelspec": {
   "display_name": ".NET (C#)",
   "language": "C#",
   "name": ".net-csharp"
  },
  "language_info": {
   "name": "C#"
  }
 },
 "nbformat": 4,
 "nbformat_minor": 2
}
